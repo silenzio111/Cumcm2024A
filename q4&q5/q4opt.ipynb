{
 "cells": [
  {
   "cell_type": "markdown",
   "metadata": {},
   "source": [
    "$$\n",
    "\\min \\left( 3r \\arccos \\left( \\frac{(2r)^2 \\cdot 2 - \\left( \\frac{4}{3}R \\right)^2}{8r^2} \\right) \\right)\n",
    "$$\n",
    "$$\n",
    "0 < 3r \\leq R \\leq 4.5\n",
    "$$"
   ]
  },
  {
   "cell_type": "code",
   "execution_count": 1,
   "metadata": {},
   "outputs": [
    {
     "name": "stdout",
     "output_type": "stream",
     "text": [
      "2.0061423963954828\n",
      "R_opt:  3.33 r_opt:  1.11 value:  10.46150353645401\n"
     ]
    },
    {
     "data": {
      "text/plain": [
       "(3.33, 1.11, 10.46150353645401)"
      ]
     },
     "execution_count": 1,
     "metadata": {},
     "output_type": "execute_result"
    }
   ],
   "source": [
    "import numpy as np\n",
    "\n",
    "# 目标函数定义\n",
    "def objective_function(r, R):\n",
    "    if r == 0:  # 避免 r 为 0 时除以 0\n",
    "        return np.inf\n",
    "    cos_value = (8 * r**2 - (4 * R / 3)**2) / (8 * r**2)\n",
    "    if cos_value < -1 or cos_value > 1:\n",
    "        return np.inf  # 返回一个很大的值，表示无效的情况\n",
    "    return 3 * r * np.arccos(np.clip(cos_value, -1, 1))\n",
    "\n",
    "# 优化函数\n",
    "def optimize():\n",
    "    min_value = np.inf  # 最小值初始化为无穷大\n",
    "    R_opt = 0\n",
    "    r_opt = 0\n",
    "    value = None  # 确保 value 被初始化\n",
    "    for R in np.arange(0, 4.5, 0.01):  # 遍历 R\n",
    "        for r in np.arange(0, R / 3, 0.01):  # 遍历 r\n",
    "            current_value = objective_function(r, R)\n",
    "            if current_value < min_value:\n",
    "                min_value = current_value\n",
    "                R_opt = R\n",
    "                r_opt = r\n",
    "                value = current_value  # 更新 value\n",
    "\n",
    "    if value is not None:\n",
    "        print(\"R_opt: \", R_opt, \"r_opt: \", r_opt, \"value: \", value)\n",
    "    else:\n",
    "        print(\"No valid solution found\")\n",
    "    return R_opt, r_opt, value\n",
    "\n",
    "# 执行优化\n",
    "optimize()\n"
   ]
  }
 ],
 "metadata": {
  "kernelspec": {
   "display_name": "Python 3",
   "language": "python",
   "name": "python3"
  },
  "language_info": {
   "codemirror_mode": {
    "name": "ipython",
    "version": 3
   },
   "file_extension": ".py",
   "mimetype": "text/x-python",
   "name": "python",
   "nbconvert_exporter": "python",
   "pygments_lexer": "ipython3",
   "version": "3.12.1"
  }
 },
 "nbformat": 4,
 "nbformat_minor": 2
}
